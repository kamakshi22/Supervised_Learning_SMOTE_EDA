{
 "cells": [
  {
   "cell_type": "markdown",
   "metadata": {},
   "source": [
    "#### Cleavelenad data set\n",
    "\n",
    "\n",
    "Attributes description: \n",
    "     \n",
    "- age: age in years\n",
    "- sex: sex (1 = male; 0 = female) \n",
    "- cp: chest pain type\n",
    "        -- Value 1: typical angina\n",
    "        -- Value 2: atypical angina\n",
    "        -- Value 3: non-anginal pain\n",
    "        -- Value 4: asymptomatic\n",
    "- trestbps: resting blood pressure (in mm Hg on admission to the hospital)\n",
    "- chol: serum cholestoral in mg/dl \n",
    "- fbs: (fasting blood sugar > 120 mg/dl)  (1 = true; 0 = false) \n",
    "- restecg: resting electrocardiographic results\n",
    "        -- Value 0: normal\n",
    "        -- Value 1: having ST-T wave abnormality (T wave inversions and/or ST \n",
    "                    elevation or depression of > 0.05 mV)\n",
    "        -- Value 2: showing probable or definite left ventricular hypertrophy\n",
    "                    by Estes' criteria\n",
    "- thalach: maximum heart rate achieved \n",
    "- exang: exercise induced angina (1 = yes; 0 = no)\n",
    "- oldpeak = ST depression induced by exercise relative to rest\n",
    "- slope: the slope of the peak exercise ST segment\n",
    "        -- Value 1: upsloping\n",
    "        -- Value 2: flat\n",
    "        -- Value 3: downsloping\n",
    "- ca: number of major vessels (0-3) colored by flourosopy\n",
    "- thal: 3 = normal; 6 = fixed defect; 7 = reversable defect\n",
    "- num: diagnosis of heart disease (angiographic disease status)\n",
    "  The \"num\" field refers to the presence of heart disease in the patient. It is integer valued from 0 (no presence) to 4. Experiments with the Cleveland database have concentrated on simply attempting to distinguish presence (values 1,2,3,4) from absence (value 0).\n",
    "\n",
    "        \n",
    "    \n",
    "\n",
    "2: Type.\t\t\tClassification\t\n",
    "\n",
    "3: Origin.\t\t\tReal world\n",
    "\n",
    "4: Instances.\t\t462\n",
    "\n",
    "5: Features.\t\t13\n",
    "\n",
    "6: Classes.\t\t\t4\t\n",
    "\n",
    "7: Missing values.\tNo"
   ]
  },
  {
   "cell_type": "code",
   "execution_count": 1,
   "metadata": {},
   "outputs": [],
   "source": [
    "import warnings\n",
    "warnings.filterwarnings('ignore')\n",
    "\n"
   ]
  },
  {
   "cell_type": "code",
   "execution_count": 2,
   "metadata": {},
   "outputs": [
    {
     "name": "stderr",
     "output_type": "stream",
     "text": [
      "/Users/kamakshibansal/opt/anaconda3/lib/python3.7/site-packages/sklearn/ensemble/weight_boosting.py:29: DeprecationWarning: numpy.core.umath_tests is an internal NumPy module and should not be imported. It will be removed in a future NumPy release.\n",
      "  from numpy.core.umath_tests import inner1d\n"
     ]
    }
   ],
   "source": [
    "import numpy as np\n",
    "import pandas as pd\n",
    "from datetime import datetime, date # helpful library for handling date information.\n",
    "import random\n",
    "\n",
    "import matplotlib.pyplot as plt \n",
    "plt.close('all')\n",
    "import seaborn as sns\n",
    "\n",
    "import sklearn\n",
    "from sklearn.model_selection import train_test_split\n",
    "from sklearn.metrics import confusion_matrix, recall_score, precision_score, f1_score, roc_auc_score,accuracy_score\n",
    "from sklearn.linear_model import LogisticRegression\n",
    "from sklearn import metrics\n",
    "from sklearn.ensemble import RandomForestClassifier\n",
    "from imblearn.over_sampling import SMOTE\n",
    "import xgboost as xgb\n",
    "\n",
    "from IPython.core.interactiveshell import InteractiveShell \n",
    "InteractiveShell.ast_node_interactivity = \"all\"\n",
    "\n",
    "#AUC ROC curve\n",
    "from sklearn.metrics import roc_auc_score\n",
    "from sklearn.metrics import roc_curve\n",
    "\n",
    "import os\n",
    "os.environ['KMP_DUPLICATE_LIB_OK']='True'\n",
    "from xgboost import XGBClassifier\n",
    "\n",
    "random.seed(123)"
   ]
  },
  {
   "cell_type": "code",
   "execution_count": 75,
   "metadata": {},
   "outputs": [
    {
     "data": {
      "text/html": [
       "<style>.container { width:98% !important; }</style>"
      ],
      "text/plain": [
       "<IPython.core.display.HTML object>"
      ]
     },
     "metadata": {},
     "output_type": "display_data"
    }
   ],
   "source": [
    "# Adjust pandas display and formatting settings\n",
    "\n",
    "# Remove scientific notations and display numbers with 2 decimal points instead\n",
    "pd.options.display.float_format = '{:,.2f}'.format        \n",
    "\n",
    "# Increase cell width\n",
    "from IPython.core.display import display, HTML\n",
    "display(HTML(\"<style>.container { width:98% !important; }</style>\"))\n",
    "\n",
    "# # Update default style\n",
    "sns.set_style(style='darkgrid')"
   ]
  },
  {
   "cell_type": "code",
   "execution_count": 4,
   "metadata": {},
   "outputs": [
    {
     "data": {
      "text/html": [
       "<div>\n",
       "<style scoped>\n",
       "    .dataframe tbody tr th:only-of-type {\n",
       "        vertical-align: middle;\n",
       "    }\n",
       "\n",
       "    .dataframe tbody tr th {\n",
       "        vertical-align: top;\n",
       "    }\n",
       "\n",
       "    .dataframe thead th {\n",
       "        text-align: right;\n",
       "    }\n",
       "</style>\n",
       "<table border=\"1\" class=\"dataframe\">\n",
       "  <thead>\n",
       "    <tr style=\"text-align: right;\">\n",
       "      <th></th>\n",
       "      <th>Age</th>\n",
       "      <th>Sex</th>\n",
       "      <th>Cp</th>\n",
       "      <th>Trestbps</th>\n",
       "      <th>Chol</th>\n",
       "      <th>Fbs</th>\n",
       "      <th>Restecg</th>\n",
       "      <th>thalach</th>\n",
       "      <th>Exang</th>\n",
       "      <th>Oldpeak</th>\n",
       "      <th>Slope</th>\n",
       "      <th>CA</th>\n",
       "      <th>Thal</th>\n",
       "      <th>num</th>\n",
       "    </tr>\n",
       "  </thead>\n",
       "  <tbody>\n",
       "    <tr>\n",
       "      <td>0</td>\n",
       "      <td>63.00</td>\n",
       "      <td>1.00</td>\n",
       "      <td>1.00</td>\n",
       "      <td>145.00</td>\n",
       "      <td>233.00</td>\n",
       "      <td>1.00</td>\n",
       "      <td>2.00</td>\n",
       "      <td>150.00</td>\n",
       "      <td>0.00</td>\n",
       "      <td>2.30</td>\n",
       "      <td>3.00</td>\n",
       "      <td>0.0</td>\n",
       "      <td>6.0</td>\n",
       "      <td>0</td>\n",
       "    </tr>\n",
       "    <tr>\n",
       "      <td>1</td>\n",
       "      <td>67.00</td>\n",
       "      <td>1.00</td>\n",
       "      <td>4.00</td>\n",
       "      <td>160.00</td>\n",
       "      <td>286.00</td>\n",
       "      <td>0.00</td>\n",
       "      <td>2.00</td>\n",
       "      <td>108.00</td>\n",
       "      <td>1.00</td>\n",
       "      <td>1.50</td>\n",
       "      <td>2.00</td>\n",
       "      <td>3.0</td>\n",
       "      <td>3.0</td>\n",
       "      <td>2</td>\n",
       "    </tr>\n",
       "    <tr>\n",
       "      <td>2</td>\n",
       "      <td>67.00</td>\n",
       "      <td>1.00</td>\n",
       "      <td>4.00</td>\n",
       "      <td>120.00</td>\n",
       "      <td>229.00</td>\n",
       "      <td>0.00</td>\n",
       "      <td>2.00</td>\n",
       "      <td>129.00</td>\n",
       "      <td>1.00</td>\n",
       "      <td>2.60</td>\n",
       "      <td>2.00</td>\n",
       "      <td>2.0</td>\n",
       "      <td>7.0</td>\n",
       "      <td>1</td>\n",
       "    </tr>\n",
       "    <tr>\n",
       "      <td>3</td>\n",
       "      <td>37.00</td>\n",
       "      <td>1.00</td>\n",
       "      <td>3.00</td>\n",
       "      <td>130.00</td>\n",
       "      <td>250.00</td>\n",
       "      <td>0.00</td>\n",
       "      <td>0.00</td>\n",
       "      <td>187.00</td>\n",
       "      <td>0.00</td>\n",
       "      <td>3.50</td>\n",
       "      <td>3.00</td>\n",
       "      <td>0.0</td>\n",
       "      <td>3.0</td>\n",
       "      <td>0</td>\n",
       "    </tr>\n",
       "    <tr>\n",
       "      <td>4</td>\n",
       "      <td>41.00</td>\n",
       "      <td>0.00</td>\n",
       "      <td>2.00</td>\n",
       "      <td>130.00</td>\n",
       "      <td>204.00</td>\n",
       "      <td>0.00</td>\n",
       "      <td>2.00</td>\n",
       "      <td>172.00</td>\n",
       "      <td>0.00</td>\n",
       "      <td>1.40</td>\n",
       "      <td>1.00</td>\n",
       "      <td>0.0</td>\n",
       "      <td>3.0</td>\n",
       "      <td>0</td>\n",
       "    </tr>\n",
       "  </tbody>\n",
       "</table>\n",
       "</div>"
      ],
      "text/plain": [
       "    Age  Sex   Cp  Trestbps   Chol  Fbs  Restecg  thalach  Exang  Oldpeak  \\\n",
       "0 63.00 1.00 1.00    145.00 233.00 1.00     2.00   150.00   0.00     2.30   \n",
       "1 67.00 1.00 4.00    160.00 286.00 0.00     2.00   108.00   1.00     1.50   \n",
       "2 67.00 1.00 4.00    120.00 229.00 0.00     2.00   129.00   1.00     2.60   \n",
       "3 37.00 1.00 3.00    130.00 250.00 0.00     0.00   187.00   0.00     3.50   \n",
       "4 41.00 0.00 2.00    130.00 204.00 0.00     2.00   172.00   0.00     1.40   \n",
       "\n",
       "   Slope   CA Thal  num  \n",
       "0   3.00  0.0  6.0    0  \n",
       "1   2.00  3.0  3.0    2  \n",
       "2   2.00  2.0  7.0    1  \n",
       "3   3.00  0.0  3.0    0  \n",
       "4   1.00  0.0  3.0    0  "
      ]
     },
     "execution_count": 4,
     "metadata": {},
     "output_type": "execute_result"
    }
   ],
   "source": [
    "#Now, our data is loaded. We're writing the following snippet to see the loaded data. The purpose here is to see the top five of the loaded data.\n",
    "\n",
    "\n",
    "df = pd.read_csv('processed.cleveland.data',sep = ',', names = ['Age', 'Sex', 'Cp', 'Trestbps',\n",
    "                                                                'Chol', 'Fbs', 'Restecg', 'thalach', 'Exang', 'Oldpeak', 'Slope', 'CA','Thal', 'num'])\n",
    "df.head()"
   ]
  },
  {
   "cell_type": "markdown",
   "metadata": {},
   "source": [
    "As mentioned in the Attributes description: Experiments with the Cleveland database have concentrated on simply attempting to distinguish presence (values 1,2,3,4) from absence (value 0). Let's coming 1,2,3,4 by 1 (presence of disease) in a new column as Target"
   ]
  },
  {
   "cell_type": "code",
   "execution_count": 5,
   "metadata": {},
   "outputs": [
    {
     "data": {
      "text/plain": [
       "0    164\n",
       "1    139\n",
       "Name: num, dtype: int64"
      ]
     },
     "execution_count": 5,
     "metadata": {},
     "output_type": "execute_result"
    },
    {
     "data": {
      "text/html": [
       "<div>\n",
       "<style scoped>\n",
       "    .dataframe tbody tr th:only-of-type {\n",
       "        vertical-align: middle;\n",
       "    }\n",
       "\n",
       "    .dataframe tbody tr th {\n",
       "        vertical-align: top;\n",
       "    }\n",
       "\n",
       "    .dataframe thead th {\n",
       "        text-align: right;\n",
       "    }\n",
       "</style>\n",
       "<table border=\"1\" class=\"dataframe\">\n",
       "  <thead>\n",
       "    <tr style=\"text-align: right;\">\n",
       "      <th></th>\n",
       "      <th>Age</th>\n",
       "      <th>Sex</th>\n",
       "      <th>Cp</th>\n",
       "      <th>Trestbps</th>\n",
       "      <th>Chol</th>\n",
       "      <th>Fbs</th>\n",
       "      <th>Restecg</th>\n",
       "      <th>thalach</th>\n",
       "      <th>Exang</th>\n",
       "      <th>Oldpeak</th>\n",
       "      <th>Slope</th>\n",
       "      <th>CA</th>\n",
       "      <th>Thal</th>\n",
       "      <th>Heart_disease</th>\n",
       "    </tr>\n",
       "  </thead>\n",
       "  <tbody>\n",
       "    <tr>\n",
       "      <td>0</td>\n",
       "      <td>63.00</td>\n",
       "      <td>1.00</td>\n",
       "      <td>1.00</td>\n",
       "      <td>145.00</td>\n",
       "      <td>233.00</td>\n",
       "      <td>1.00</td>\n",
       "      <td>2.00</td>\n",
       "      <td>150.00</td>\n",
       "      <td>0.00</td>\n",
       "      <td>2.30</td>\n",
       "      <td>3.00</td>\n",
       "      <td>0.0</td>\n",
       "      <td>6.0</td>\n",
       "      <td>0</td>\n",
       "    </tr>\n",
       "    <tr>\n",
       "      <td>1</td>\n",
       "      <td>67.00</td>\n",
       "      <td>1.00</td>\n",
       "      <td>4.00</td>\n",
       "      <td>160.00</td>\n",
       "      <td>286.00</td>\n",
       "      <td>0.00</td>\n",
       "      <td>2.00</td>\n",
       "      <td>108.00</td>\n",
       "      <td>1.00</td>\n",
       "      <td>1.50</td>\n",
       "      <td>2.00</td>\n",
       "      <td>3.0</td>\n",
       "      <td>3.0</td>\n",
       "      <td>1</td>\n",
       "    </tr>\n",
       "    <tr>\n",
       "      <td>2</td>\n",
       "      <td>67.00</td>\n",
       "      <td>1.00</td>\n",
       "      <td>4.00</td>\n",
       "      <td>120.00</td>\n",
       "      <td>229.00</td>\n",
       "      <td>0.00</td>\n",
       "      <td>2.00</td>\n",
       "      <td>129.00</td>\n",
       "      <td>1.00</td>\n",
       "      <td>2.60</td>\n",
       "      <td>2.00</td>\n",
       "      <td>2.0</td>\n",
       "      <td>7.0</td>\n",
       "      <td>1</td>\n",
       "    </tr>\n",
       "    <tr>\n",
       "      <td>3</td>\n",
       "      <td>37.00</td>\n",
       "      <td>1.00</td>\n",
       "      <td>3.00</td>\n",
       "      <td>130.00</td>\n",
       "      <td>250.00</td>\n",
       "      <td>0.00</td>\n",
       "      <td>0.00</td>\n",
       "      <td>187.00</td>\n",
       "      <td>0.00</td>\n",
       "      <td>3.50</td>\n",
       "      <td>3.00</td>\n",
       "      <td>0.0</td>\n",
       "      <td>3.0</td>\n",
       "      <td>0</td>\n",
       "    </tr>\n",
       "    <tr>\n",
       "      <td>4</td>\n",
       "      <td>41.00</td>\n",
       "      <td>0.00</td>\n",
       "      <td>2.00</td>\n",
       "      <td>130.00</td>\n",
       "      <td>204.00</td>\n",
       "      <td>0.00</td>\n",
       "      <td>2.00</td>\n",
       "      <td>172.00</td>\n",
       "      <td>0.00</td>\n",
       "      <td>1.40</td>\n",
       "      <td>1.00</td>\n",
       "      <td>0.0</td>\n",
       "      <td>3.0</td>\n",
       "      <td>0</td>\n",
       "    </tr>\n",
       "  </tbody>\n",
       "</table>\n",
       "</div>"
      ],
      "text/plain": [
       "    Age  Sex   Cp  Trestbps   Chol  Fbs  Restecg  thalach  Exang  Oldpeak  \\\n",
       "0 63.00 1.00 1.00    145.00 233.00 1.00     2.00   150.00   0.00     2.30   \n",
       "1 67.00 1.00 4.00    160.00 286.00 0.00     2.00   108.00   1.00     1.50   \n",
       "2 67.00 1.00 4.00    120.00 229.00 0.00     2.00   129.00   1.00     2.60   \n",
       "3 37.00 1.00 3.00    130.00 250.00 0.00     0.00   187.00   0.00     3.50   \n",
       "4 41.00 0.00 2.00    130.00 204.00 0.00     2.00   172.00   0.00     1.40   \n",
       "\n",
       "   Slope   CA Thal  Heart_disease  \n",
       "0   3.00  0.0  6.0              0  \n",
       "1   2.00  3.0  3.0              1  \n",
       "2   2.00  2.0  7.0              1  \n",
       "3   3.00  0.0  3.0              0  \n",
       "4   1.00  0.0  3.0              0  "
      ]
     },
     "execution_count": 5,
     "metadata": {},
     "output_type": "execute_result"
    }
   ],
   "source": [
    "# As mentioned in the Attributes description: Experiments with the Cleveland database have concentrated on simply attempting to distinguish presence (values 1,2,3,4) from absence (value 0). \n",
    "# Let's combine 1,2,3,4 by 1 (presence of disease) in a new column as Target\n",
    "\n",
    "df['num'] = df['num'].replace([1,2,3,4], 1)\n",
    "\n",
    "df['num'].value_counts()\n",
    "# #Rename the num column to target \n",
    "df=df.rename( columns = {'num':'Heart_disease'})\n",
    "df.head()"
   ]
  },
  {
   "cell_type": "code",
   "execution_count": 6,
   "metadata": {},
   "outputs": [
    {
     "data": {
      "text/plain": [
       "0.0    176\n",
       "1.0     65\n",
       "2.0     38\n",
       "3.0     20\n",
       "?        4\n",
       "Name: CA, dtype: int64"
      ]
     },
     "execution_count": 6,
     "metadata": {},
     "output_type": "execute_result"
    },
    {
     "data": {
      "text/html": [
       "<div>\n",
       "<style scoped>\n",
       "    .dataframe tbody tr th:only-of-type {\n",
       "        vertical-align: middle;\n",
       "    }\n",
       "\n",
       "    .dataframe tbody tr th {\n",
       "        vertical-align: top;\n",
       "    }\n",
       "\n",
       "    .dataframe thead th {\n",
       "        text-align: right;\n",
       "    }\n",
       "</style>\n",
       "<table border=\"1\" class=\"dataframe\">\n",
       "  <thead>\n",
       "    <tr style=\"text-align: right;\">\n",
       "      <th></th>\n",
       "      <th>Age</th>\n",
       "      <th>Sex</th>\n",
       "      <th>Cp</th>\n",
       "      <th>Trestbps</th>\n",
       "      <th>Chol</th>\n",
       "      <th>Fbs</th>\n",
       "      <th>Restecg</th>\n",
       "      <th>thalach</th>\n",
       "      <th>Exang</th>\n",
       "      <th>Oldpeak</th>\n",
       "      <th>Slope</th>\n",
       "      <th>CA</th>\n",
       "      <th>Thal</th>\n",
       "      <th>Heart_disease</th>\n",
       "    </tr>\n",
       "  </thead>\n",
       "  <tbody>\n",
       "    <tr>\n",
       "      <td>166</td>\n",
       "      <td>52.00</td>\n",
       "      <td>1.00</td>\n",
       "      <td>3.00</td>\n",
       "      <td>138.00</td>\n",
       "      <td>223.00</td>\n",
       "      <td>0.00</td>\n",
       "      <td>0.00</td>\n",
       "      <td>169.00</td>\n",
       "      <td>0.00</td>\n",
       "      <td>0.00</td>\n",
       "      <td>1.00</td>\n",
       "      <td>?</td>\n",
       "      <td>3.0</td>\n",
       "      <td>0</td>\n",
       "    </tr>\n",
       "    <tr>\n",
       "      <td>192</td>\n",
       "      <td>43.00</td>\n",
       "      <td>1.00</td>\n",
       "      <td>4.00</td>\n",
       "      <td>132.00</td>\n",
       "      <td>247.00</td>\n",
       "      <td>1.00</td>\n",
       "      <td>2.00</td>\n",
       "      <td>143.00</td>\n",
       "      <td>1.00</td>\n",
       "      <td>0.10</td>\n",
       "      <td>2.00</td>\n",
       "      <td>?</td>\n",
       "      <td>7.0</td>\n",
       "      <td>1</td>\n",
       "    </tr>\n",
       "    <tr>\n",
       "      <td>287</td>\n",
       "      <td>58.00</td>\n",
       "      <td>1.00</td>\n",
       "      <td>2.00</td>\n",
       "      <td>125.00</td>\n",
       "      <td>220.00</td>\n",
       "      <td>0.00</td>\n",
       "      <td>0.00</td>\n",
       "      <td>144.00</td>\n",
       "      <td>0.00</td>\n",
       "      <td>0.40</td>\n",
       "      <td>2.00</td>\n",
       "      <td>?</td>\n",
       "      <td>7.0</td>\n",
       "      <td>0</td>\n",
       "    </tr>\n",
       "    <tr>\n",
       "      <td>302</td>\n",
       "      <td>38.00</td>\n",
       "      <td>1.00</td>\n",
       "      <td>3.00</td>\n",
       "      <td>138.00</td>\n",
       "      <td>175.00</td>\n",
       "      <td>0.00</td>\n",
       "      <td>0.00</td>\n",
       "      <td>173.00</td>\n",
       "      <td>0.00</td>\n",
       "      <td>0.00</td>\n",
       "      <td>1.00</td>\n",
       "      <td>?</td>\n",
       "      <td>3.0</td>\n",
       "      <td>0</td>\n",
       "    </tr>\n",
       "  </tbody>\n",
       "</table>\n",
       "</div>"
      ],
      "text/plain": [
       "      Age  Sex   Cp  Trestbps   Chol  Fbs  Restecg  thalach  Exang  Oldpeak  \\\n",
       "166 52.00 1.00 3.00    138.00 223.00 0.00     0.00   169.00   0.00     0.00   \n",
       "192 43.00 1.00 4.00    132.00 247.00 1.00     2.00   143.00   1.00     0.10   \n",
       "287 58.00 1.00 2.00    125.00 220.00 0.00     0.00   144.00   0.00     0.40   \n",
       "302 38.00 1.00 3.00    138.00 175.00 0.00     0.00   173.00   0.00     0.00   \n",
       "\n",
       "     Slope CA Thal  Heart_disease  \n",
       "166   1.00  ?  3.0              0  \n",
       "192   2.00  ?  7.0              1  \n",
       "287   2.00  ?  7.0              0  \n",
       "302   1.00  ?  3.0              0  "
      ]
     },
     "execution_count": 6,
     "metadata": {},
     "output_type": "execute_result"
    }
   ],
   "source": [
    "df.CA.value_counts()\n",
    "\n",
    "df[df[\"CA\"]=='?'] #Printing those rows where there are non-numeric values."
   ]
  },
  {
   "cell_type": "code",
   "execution_count": 7,
   "metadata": {},
   "outputs": [
    {
     "data": {
      "text/plain": [
       "0    0.0\n",
       "dtype: object"
      ]
     },
     "execution_count": 7,
     "metadata": {},
     "output_type": "execute_result"
    },
    {
     "data": {
      "text/plain": [
       "0.0    180\n",
       "1.0     65\n",
       "2.0     38\n",
       "3.0     20\n",
       "Name: CA, dtype: int64"
      ]
     },
     "execution_count": 7,
     "metadata": {},
     "output_type": "execute_result"
    }
   ],
   "source": [
    "# Since, we just have 303 rows in our dataset, removing 4 rows which will be 1.32% of the data, will not be a good idea. Let's replace these non-numberic values by mode of CA.\n",
    "df.CA.mode()\n",
    "df[\"CA\"]= df[\"CA\"].replace(\"?\", \"0.0\")\n",
    "df.CA.value_counts()"
   ]
  },
  {
   "cell_type": "code",
   "execution_count": 9,
   "metadata": {},
   "outputs": [
    {
     "data": {
      "text/plain": [
       "3.0    166\n",
       "7.0    117\n",
       "6.0     18\n",
       "?        2\n",
       "Name: Thal, dtype: int64"
      ]
     },
     "execution_count": 9,
     "metadata": {},
     "output_type": "execute_result"
    },
    {
     "data": {
      "text/plain": [
       "3.0    168\n",
       "7.0    117\n",
       "6.0     18\n",
       "Name: Thal, dtype: int64"
      ]
     },
     "execution_count": 9,
     "metadata": {},
     "output_type": "execute_result"
    }
   ],
   "source": [
    "#Similarly, let's replace the non-numberic values by mode of Thal column.\n",
    "\n",
    "df[\"Thal\"].value_counts()\n",
    "df[\"Thal\"]= df[\"Thal\"].replace(\"?\", \"3.0\")\n",
    "df[\"Thal\"].value_counts()"
   ]
  },
  {
   "cell_type": "code",
   "execution_count": 10,
   "metadata": {},
   "outputs": [
    {
     "data": {
      "text/plain": [
       "Age             -0.21\n",
       "Sex             -0.77\n",
       "Cp              -0.84\n",
       "Trestbps         0.71\n",
       "Chol             1.14\n",
       "Fbs              1.99\n",
       "Restecg          0.02\n",
       "thalach         -0.54\n",
       "Exang            0.74\n",
       "Oldpeak          1.27\n",
       "Slope            0.51\n",
       "CA               1.21\n",
       "Thal             0.26\n",
       "Heart_disease    0.17\n",
       "dtype: float64"
      ]
     },
     "execution_count": 10,
     "metadata": {},
     "output_type": "execute_result"
    }
   ],
   "source": [
    "df.skew()"
   ]
  },
  {
   "cell_type": "code",
   "execution_count": 16,
   "metadata": {},
   "outputs": [
    {
     "data": {
      "image/png": "[encoded data removed]",
      "text/plain": [
       "<Figure size 432x288 with 1 Axes>"
      ]
     },
     "metadata": {},
     "output_type": "display_data"
    }
   ],
   "source": [
    "sns.kdeplot(df['Chol'], shade=True, color=\"r\")\n",
    "plt.ylabel('Chol')\n",
    "plt.title('Serum cholestoral in mg/dl )');"
   ]
  },
  {
   "cell_type": "code",
   "execution_count": 17,
   "metadata": {},
   "outputs": [
    {
     "data": {
      "image/png": "[encoded data removed]",
      "text/plain": [
       "<Figure size 432x288 with 1 Axes>"
      ]
     },
     "metadata": {},
     "output_type": "display_data"
    }
   ],
   "source": [
    "sns.kdeplot(np.log(df['Chol']), shade=True, color=\"r\")\n",
    "plt.ylabel('Chol')\n",
    "plt.title('Serum cholestoral in mg/dl after log transformation');"
   ]
  },
  {
   "cell_type": "code",
   "execution_count": 18,
   "metadata": {},
   "outputs": [],
   "source": [
    "df['Chol']= np.log(df['Chol'])\n",
    "# df['Oldpeak']=np.log(df['Oldpeak'])"
   ]
  },
  {
   "cell_type": "code",
   "execution_count": 23,
   "metadata": {},
   "outputs": [],
   "source": [
    "df.loc[((df['Cp'] == 1) | (df['Cp'] == 2)), 'Cp'] = 2 #combining the low volume categories to one category. Please refer EDA."
   ]
  },
  {
   "cell_type": "code",
   "execution_count": 24,
   "metadata": {},
   "outputs": [
    {
     "data": {
      "text/plain": [
       "4.00   0.48\n",
       "3.00   0.28\n",
       "2.00   0.24\n",
       "Name: Cp, dtype: float64"
      ]
     },
     "execution_count": 24,
     "metadata": {},
     "output_type": "execute_result"
    }
   ],
   "source": [
    "df[\"Cp\"].value_counts(normalize=True) # Now 2 refers to having angina chest pain combining both typical and atypical categories"
   ]
  },
  {
   "cell_type": "code",
   "execution_count": 25,
   "metadata": {},
   "outputs": [],
   "source": [
    "# df.loc[((df['Restecg'] == 1) | (df['Restecg'] == 2)), 'Restecg'] = 1"
   ]
  },
  {
   "cell_type": "code",
   "execution_count": 26,
   "metadata": {},
   "outputs": [
    {
     "data": {
      "text/plain": [
       "0.00    151\n",
       "2.00    148\n",
       "1.00      4\n",
       "Name: Restecg, dtype: int64"
      ]
     },
     "execution_count": 26,
     "metadata": {},
     "output_type": "execute_result"
    }
   ],
   "source": [
    "df['Restecg'].value_counts() # 1: abnormal   # 0: normal"
   ]
  },
  {
   "cell_type": "code",
   "execution_count": 27,
   "metadata": {},
   "outputs": [
    {
     "data": {
      "text/plain": [
       "0    164\n",
       "1    139\n",
       "Name: Heart_disease, dtype: int64"
      ]
     },
     "execution_count": 27,
     "metadata": {},
     "output_type": "execute_result"
    }
   ],
   "source": [
    "df.Heart_disease.value_counts()"
   ]
  },
  {
   "cell_type": "code",
   "execution_count": 28,
   "metadata": {},
   "outputs": [
    {
     "data": {
      "text/html": [
       "<div>\n",
       "<style scoped>\n",
       "    .dataframe tbody tr th:only-of-type {\n",
       "        vertical-align: middle;\n",
       "    }\n",
       "\n",
       "    .dataframe tbody tr th {\n",
       "        vertical-align: top;\n",
       "    }\n",
       "\n",
       "    .dataframe thead th {\n",
       "        text-align: right;\n",
       "    }\n",
       "</style>\n",
       "<table border=\"1\" class=\"dataframe\">\n",
       "  <thead>\n",
       "    <tr style=\"text-align: right;\">\n",
       "      <th></th>\n",
       "      <th>Age</th>\n",
       "      <th>Sex</th>\n",
       "      <th>Cp</th>\n",
       "      <th>Trestbps</th>\n",
       "      <th>Chol</th>\n",
       "      <th>Fbs</th>\n",
       "      <th>Restecg</th>\n",
       "      <th>thalach</th>\n",
       "      <th>Exang</th>\n",
       "      <th>Oldpeak</th>\n",
       "      <th>Slope</th>\n",
       "      <th>CA</th>\n",
       "      <th>Thal</th>\n",
       "      <th>Heart_disease</th>\n",
       "    </tr>\n",
       "  </thead>\n",
       "  <tbody>\n",
       "    <tr>\n",
       "      <td>0</td>\n",
       "      <td>63.00</td>\n",
       "      <td>1.00</td>\n",
       "      <td>2.00</td>\n",
       "      <td>145.00</td>\n",
       "      <td>5.45</td>\n",
       "      <td>1.00</td>\n",
       "      <td>2.00</td>\n",
       "      <td>150.00</td>\n",
       "      <td>0.00</td>\n",
       "      <td>2.30</td>\n",
       "      <td>3.00</td>\n",
       "      <td>0.0</td>\n",
       "      <td>6.0</td>\n",
       "      <td>0</td>\n",
       "    </tr>\n",
       "    <tr>\n",
       "      <td>1</td>\n",
       "      <td>67.00</td>\n",
       "      <td>1.00</td>\n",
       "      <td>4.00</td>\n",
       "      <td>160.00</td>\n",
       "      <td>5.66</td>\n",
       "      <td>0.00</td>\n",
       "      <td>2.00</td>\n",
       "      <td>108.00</td>\n",
       "      <td>1.00</td>\n",
       "      <td>1.50</td>\n",
       "      <td>2.00</td>\n",
       "      <td>3.0</td>\n",
       "      <td>3.0</td>\n",
       "      <td>1</td>\n",
       "    </tr>\n",
       "    <tr>\n",
       "      <td>2</td>\n",
       "      <td>67.00</td>\n",
       "      <td>1.00</td>\n",
       "      <td>4.00</td>\n",
       "      <td>120.00</td>\n",
       "      <td>5.43</td>\n",
       "      <td>0.00</td>\n",
       "      <td>2.00</td>\n",
       "      <td>129.00</td>\n",
       "      <td>1.00</td>\n",
       "      <td>2.60</td>\n",
       "      <td>2.00</td>\n",
       "      <td>2.0</td>\n",
       "      <td>7.0</td>\n",
       "      <td>1</td>\n",
       "    </tr>\n",
       "    <tr>\n",
       "      <td>3</td>\n",
       "      <td>37.00</td>\n",
       "      <td>1.00</td>\n",
       "      <td>3.00</td>\n",
       "      <td>130.00</td>\n",
       "      <td>5.52</td>\n",
       "      <td>0.00</td>\n",
       "      <td>0.00</td>\n",
       "      <td>187.00</td>\n",
       "      <td>0.00</td>\n",
       "      <td>3.50</td>\n",
       "      <td>3.00</td>\n",
       "      <td>0.0</td>\n",
       "      <td>3.0</td>\n",
       "      <td>0</td>\n",
       "    </tr>\n",
       "    <tr>\n",
       "      <td>4</td>\n",
       "      <td>41.00</td>\n",
       "      <td>0.00</td>\n",
       "      <td>2.00</td>\n",
       "      <td>130.00</td>\n",
       "      <td>5.32</td>\n",
       "      <td>0.00</td>\n",
       "      <td>2.00</td>\n",
       "      <td>172.00</td>\n",
       "      <td>0.00</td>\n",
       "      <td>1.40</td>\n",
       "      <td>1.00</td>\n",
       "      <td>0.0</td>\n",
       "      <td>3.0</td>\n",
       "      <td>0</td>\n",
       "    </tr>\n",
       "    <tr>\n",
       "      <td>...</td>\n",
       "      <td>...</td>\n",
       "      <td>...</td>\n",
       "      <td>...</td>\n",
       "      <td>...</td>\n",
       "      <td>...</td>\n",
       "      <td>...</td>\n",
       "      <td>...</td>\n",
       "      <td>...</td>\n",
       "      <td>...</td>\n",
       "      <td>...</td>\n",
       "      <td>...</td>\n",
       "      <td>...</td>\n",
       "      <td>...</td>\n",
       "      <td>...</td>\n",
       "    </tr>\n",
       "    <tr>\n",
       "      <td>298</td>\n",
       "      <td>45.00</td>\n",
       "      <td>1.00</td>\n",
       "      <td>2.00</td>\n",
       "      <td>110.00</td>\n",
       "      <td>5.58</td>\n",
       "      <td>0.00</td>\n",
       "      <td>0.00</td>\n",
       "      <td>132.00</td>\n",
       "      <td>0.00</td>\n",
       "      <td>1.20</td>\n",
       "      <td>2.00</td>\n",
       "      <td>0.0</td>\n",
       "      <td>7.0</td>\n",
       "      <td>1</td>\n",
       "    </tr>\n",
       "    <tr>\n",
       "      <td>299</td>\n",
       "      <td>68.00</td>\n",
       "      <td>1.00</td>\n",
       "      <td>4.00</td>\n",
       "      <td>144.00</td>\n",
       "      <td>5.26</td>\n",
       "      <td>1.00</td>\n",
       "      <td>0.00</td>\n",
       "      <td>141.00</td>\n",
       "      <td>0.00</td>\n",
       "      <td>3.40</td>\n",
       "      <td>2.00</td>\n",
       "      <td>2.0</td>\n",
       "      <td>7.0</td>\n",
       "      <td>1</td>\n",
       "    </tr>\n",
       "    <tr>\n",
       "      <td>300</td>\n",
       "      <td>57.00</td>\n",
       "      <td>1.00</td>\n",
       "      <td>4.00</td>\n",
       "      <td>130.00</td>\n",
       "      <td>4.88</td>\n",
       "      <td>0.00</td>\n",
       "      <td>0.00</td>\n",
       "      <td>115.00</td>\n",
       "      <td>1.00</td>\n",
       "      <td>1.20</td>\n",
       "      <td>2.00</td>\n",
       "      <td>1.0</td>\n",
       "      <td>7.0</td>\n",
       "      <td>1</td>\n",
       "    </tr>\n",
       "    <tr>\n",
       "      <td>301</td>\n",
       "      <td>57.00</td>\n",
       "      <td>0.00</td>\n",
       "      <td>2.00</td>\n",
       "      <td>130.00</td>\n",
       "      <td>5.46</td>\n",
       "      <td>0.00</td>\n",
       "      <td>2.00</td>\n",
       "      <td>174.00</td>\n",
       "      <td>0.00</td>\n",
       "      <td>0.00</td>\n",
       "      <td>2.00</td>\n",
       "      <td>1.0</td>\n",
       "      <td>3.0</td>\n",
       "      <td>1</td>\n",
       "    </tr>\n",
       "    <tr>\n",
       "      <td>302</td>\n",
       "      <td>38.00</td>\n",
       "      <td>1.00</td>\n",
       "      <td>3.00</td>\n",
       "      <td>138.00</td>\n",
       "      <td>5.16</td>\n",
       "      <td>0.00</td>\n",
       "      <td>0.00</td>\n",
       "      <td>173.00</td>\n",
       "      <td>0.00</td>\n",
       "      <td>0.00</td>\n",
       "      <td>1.00</td>\n",
       "      <td>0.0</td>\n",
       "      <td>3.0</td>\n",
       "      <td>0</td>\n",
       "    </tr>\n",
       "  </tbody>\n",
       "</table>\n",
       "<p>303 rows × 14 columns</p>\n",
       "</div>"
      ],
      "text/plain": [
       "      Age  Sex   Cp  Trestbps  Chol  Fbs  Restecg  thalach  Exang  Oldpeak  \\\n",
       "0   63.00 1.00 2.00    145.00  5.45 1.00     2.00   150.00   0.00     2.30   \n",
       "1   67.00 1.00 4.00    160.00  5.66 0.00     2.00   108.00   1.00     1.50   \n",
       "2   67.00 1.00 4.00    120.00  5.43 0.00     2.00   129.00   1.00     2.60   \n",
       "3   37.00 1.00 3.00    130.00  5.52 0.00     0.00   187.00   0.00     3.50   \n",
       "4   41.00 0.00 2.00    130.00  5.32 0.00     2.00   172.00   0.00     1.40   \n",
       "..    ...  ...  ...       ...   ...  ...      ...      ...    ...      ...   \n",
       "298 45.00 1.00 2.00    110.00  5.58 0.00     0.00   132.00   0.00     1.20   \n",
       "299 68.00 1.00 4.00    144.00  5.26 1.00     0.00   141.00   0.00     3.40   \n",
       "300 57.00 1.00 4.00    130.00  4.88 0.00     0.00   115.00   1.00     1.20   \n",
       "301 57.00 0.00 2.00    130.00  5.46 0.00     2.00   174.00   0.00     0.00   \n",
       "302 38.00 1.00 3.00    138.00  5.16 0.00     0.00   173.00   0.00     0.00   \n",
       "\n",
       "     Slope   CA Thal  Heart_disease  \n",
       "0     3.00  0.0  6.0              0  \n",
       "1     2.00  3.0  3.0              1  \n",
       "2     2.00  2.0  7.0              1  \n",
       "3     3.00  0.0  3.0              0  \n",
       "4     1.00  0.0  3.0              0  \n",
       "..     ...  ...  ...            ...  \n",
       "298   2.00  0.0  7.0              1  \n",
       "299   2.00  2.0  7.0              1  \n",
       "300   2.00  1.0  7.0              1  \n",
       "301   2.00  1.0  3.0              1  \n",
       "302   1.00  0.0  3.0              0  \n",
       "\n",
       "[303 rows x 14 columns]"
      ]
     },
     "execution_count": 28,
     "metadata": {},
     "output_type": "execute_result"
    }
   ],
   "source": [
    "df"
   ]
  },
  {
   "cell_type": "code",
   "execution_count": 29,
   "metadata": {},
   "outputs": [],
   "source": [
    "# Data types are changed, as XGBoost doesn't takes categorical or bool as input.\n",
    "df[\"CA\"]=df[\"CA\"].astype('float64')\n",
    "df[\"Thal\"]=df[\"Thal\"].astype('float64')\n"
   ]
  },
  {
   "cell_type": "code",
   "execution_count": 30,
   "metadata": {
    "scrolled": true
   },
   "outputs": [],
   "source": [
    "# dff = pd.get_dummies(df, drop_first= True)\n",
    "# dff"
   ]
  },
  {
   "cell_type": "markdown",
   "metadata": {},
   "source": [
    "# Creating the Training and Test Sets\n",
    "\n",
    "\n",
    "### With the data prepared, I am creating a training dataset and a test dataset. I’ll use the training dataset to build and validate the model, and treat the test dataset as the unseen new data I’d see if the model were in production."
   ]
  },
  {
   "cell_type": "code",
   "execution_count": 31,
   "metadata": {},
   "outputs": [],
   "source": [
    "msk = np.random.rand(len(df)) <= 0.9\n",
    "train = df[msk]\n",
    "test = df[~msk]"
   ]
  },
  {
   "cell_type": "code",
   "execution_count": 50,
   "metadata": {},
   "outputs": [
    {
     "data": {
      "text/html": [
       "<div>\n",
       "<style scoped>\n",
       "    .dataframe tbody tr th:only-of-type {\n",
       "        vertical-align: middle;\n",
       "    }\n",
       "\n",
       "    .dataframe tbody tr th {\n",
       "        vertical-align: top;\n",
       "    }\n",
       "\n",
       "    .dataframe thead th {\n",
       "        text-align: right;\n",
       "    }\n",
       "</style>\n",
       "<table border=\"1\" class=\"dataframe\">\n",
       "  <thead>\n",
       "    <tr style=\"text-align: right;\">\n",
       "      <th></th>\n",
       "      <th>Age</th>\n",
       "      <th>Sex</th>\n",
       "      <th>Cp</th>\n",
       "      <th>Trestbps</th>\n",
       "      <th>Chol</th>\n",
       "      <th>Fbs</th>\n",
       "      <th>Restecg</th>\n",
       "      <th>thalach</th>\n",
       "      <th>Exang</th>\n",
       "      <th>Oldpeak</th>\n",
       "      <th>Slope</th>\n",
       "      <th>CA</th>\n",
       "      <th>Thal</th>\n",
       "      <th>Heart_disease</th>\n",
       "    </tr>\n",
       "  </thead>\n",
       "  <tbody>\n",
       "    <tr>\n",
       "      <td>0</td>\n",
       "      <td>63.00</td>\n",
       "      <td>1.00</td>\n",
       "      <td>2.00</td>\n",
       "      <td>145.00</td>\n",
       "      <td>5.45</td>\n",
       "      <td>1.00</td>\n",
       "      <td>2.00</td>\n",
       "      <td>150.00</td>\n",
       "      <td>0.00</td>\n",
       "      <td>2.30</td>\n",
       "      <td>3.00</td>\n",
       "      <td>0.00</td>\n",
       "      <td>6.00</td>\n",
       "      <td>0</td>\n",
       "    </tr>\n",
       "    <tr>\n",
       "      <td>1</td>\n",
       "      <td>67.00</td>\n",
       "      <td>1.00</td>\n",
       "      <td>4.00</td>\n",
       "      <td>160.00</td>\n",
       "      <td>5.66</td>\n",
       "      <td>0.00</td>\n",
       "      <td>2.00</td>\n",
       "      <td>108.00</td>\n",
       "      <td>1.00</td>\n",
       "      <td>1.50</td>\n",
       "      <td>2.00</td>\n",
       "      <td>3.00</td>\n",
       "      <td>3.00</td>\n",
       "      <td>1</td>\n",
       "    </tr>\n",
       "  </tbody>\n",
       "</table>\n",
       "</div>"
      ],
      "text/plain": [
       "    Age  Sex   Cp  Trestbps  Chol  Fbs  Restecg  thalach  Exang  Oldpeak  \\\n",
       "0 63.00 1.00 2.00    145.00  5.45 1.00     2.00   150.00   0.00     2.30   \n",
       "1 67.00 1.00 4.00    160.00  5.66 0.00     2.00   108.00   1.00     1.50   \n",
       "\n",
       "   Slope   CA  Thal  Heart_disease  \n",
       "0   3.00 0.00  6.00              0  \n",
       "1   2.00 3.00  3.00              1  "
      ]
     },
     "execution_count": 50,
     "metadata": {},
     "output_type": "execute_result"
    }
   ],
   "source": [
    "train.head(2)"
   ]
  },
  {
   "cell_type": "code",
   "execution_count": 33,
   "metadata": {},
   "outputs": [],
   "source": [
    "##Split into training and test set\n",
    "## Define X and Y variables\n",
    "X = train.drop('Heart_disease', axis=1)\n",
    "Y = train[['Heart_disease']]\n",
    "\n",
    "\n",
    "from sklearn.model_selection import train_test_split\n",
    "\n",
    "x_train, x_val, y_train, y_val = train_test_split(X,Y, test_size = .1, random_state=12)"
   ]
  },
  {
   "cell_type": "markdown",
   "metadata": {},
   "source": [
    "If the oversampling using SMOTE algorithm was done before splitting into training and validation datasets, the information would “bleed” from the validation set into the training of the model.\n",
    "\n",
    "Let's understand this with a help of a example, were we are just duplicating rows. If we upsample the dataset before splitting the data, the same data point might end up in both the training and validation dataset. As a result the accuracy will be very high.\n",
    "\n",
    "Though, using SMOTE algorithm, we are not creating duplicate observations. However, since the SMOTE algorithm uses the nearest neighbors of observations to create synthetic data which still bleeds some information as the information about centroid of dataset will be there in these newly created synthetic data points which will be present in both the training and validation set if oversampling is done before spllitting. \n",
    "\n",
    "Hence, the oversampling is done after splitting the dataset into training and validation set.\n",
    "\n"
   ]
  },
  {
   "cell_type": "code",
   "execution_count": 34,
   "metadata": {},
   "outputs": [
    {
     "data": {
      "text/plain": [
       "0    135\n",
       "1    107\n",
       "Name: Heart_disease, dtype: int64"
      ]
     },
     "execution_count": 34,
     "metadata": {},
     "output_type": "execute_result"
    }
   ],
   "source": [
    " y_train[\"Heart_disease\"].value_counts()"
   ]
  },
  {
   "cell_type": "code",
   "execution_count": 71,
   "metadata": {},
   "outputs": [],
   "source": [
    "## function to get confusion matrix in a proper format\n",
    "def draw_cm( actual, predicted ):\n",
    "    cm = confusion_matrix( actual, predicted)\n",
    "    sns.heatmap(cm, annot=True,  fmt='.2f', xticklabels = [0,1] , yticklabels = [0,1] )\n",
    "    plt.ylabel('Observed')\n",
    "    plt.xlabel('Predicted')\n",
    "    plt.show()\n",
    "    \n",
    "def Results(model, ypredict,X,Y, i):\n",
    "    \n",
    "    print(\"Training accuracy\",round((model.score(X,Y)*100),3))\n",
    "    print()\n",
    "    print(\"Testing accuracy\",round((model.score( x_val, y_val)*100),3))\n",
    "    print()\n",
    "    print(\"Confusion Matrix {}\".format(i))\n",
    "    (draw_cm(y_val,ypredict))\n",
    "    print()\n",
    "    print(\"Recall:\",round((recall_score(y_val,ypredict)*100),3))\n",
    "    print()\n",
    "    print(\"Precision:\",round((precision_score(y_val,ypredict)*100),3))\n",
    "    print()\n",
    "    print(\"F1 Score:\",round((f1_score(y_val,ypredict)*100),3))\n",
    "    print()\n",
    "    print(\"Roc Auc Score:\",round((roc_auc_score(y_val,ypredict)*100),3))\n",
    "    ROC_curve (model, ypredict, i)\n",
    "\n",
    "\n",
    "def ROC_curve (model, ypredict, i ):\n",
    "    model_roc_auc = roc_auc_score(y_val, ypredict)\n",
    "    fpr, tpr, thresholds = roc_curve(y_val, model.predict_proba(x_val)[:,1])\n",
    "    plt.figure()\n",
    "    plt.plot(fpr, tpr, label=\"{}(area = %0.2f)\".format(i) % model_roc_auc)\n",
    "    plt.plot([0, 1], [0, 1],'r--')\n",
    "    plt.xlim([0.0, 1.0])\n",
    "    plt.ylim([0.0, 1.05])\n",
    "    plt.xlabel('False Positive Rate')\n",
    "    plt.ylabel('True Positive Rate')\n",
    "    plt.title('Receiver operating characteristic for {}'.format(i))\n",
    "    plt.legend(loc=\"lower right\")\n",
    "    plt.savefig('{}_ROC'.format(i))\n",
    "    plt.show()"
   ]
  },
  {
   "cell_type": "code",
   "execution_count": 72,
   "metadata": {},
   "outputs": [
    {
     "data": {
      "text/plain": [
       "LogisticRegression(C=1.0, class_weight=None, dual=False, fit_intercept=True,\n",
       "          intercept_scaling=1, max_iter=100, multi_class='ovr', n_jobs=1,\n",
       "          penalty='l2', random_state=42, solver='liblinear', tol=0.0001,\n",
       "          verbose=0, warm_start=False)"
      ]
     },
     "execution_count": 72,
     "metadata": {},
     "output_type": "execute_result"
    },
    {
     "name": "stdout",
     "output_type": "stream",
     "text": [
      "Training accuracy 85.537\n",
      "\n",
      "Testing accuracy 85.185\n",
      "\n",
      "Confusion Matrix Logistic Regression before sampling\n"
     ]
    },
    {
     "data": {
      "image/png": "[encoded data removed]",
      "text/plain": [
       "<Figure size 432x288 with 2 Axes>"
      ]
     },
     "metadata": {},
     "output_type": "display_data"
    },
    {
     "name": "stdout",
     "output_type": "stream",
     "text": [
      "\n",
      "Recall: 73.333\n",
      "\n",
      "Precision: 100.0\n",
      "\n",
      "F1 Score: 84.615\n",
      "\n",
      "Roc Auc Score: 86.667\n"
     ]
    },
    {
     "data": {
      "image/png": "[encoded data removed]",
      "text/plain": [
       "<Figure size 432x288 with 1 Axes>"
      ]
     },
     "metadata": {},
     "output_type": "display_data"
    }
   ],
   "source": [
    "#Without sampling\n",
    "\n",
    "\n",
    "from sklearn.metrics import confusion_matrix, recall_score, precision_score, f1_score, roc_auc_score,accuracy_score\n",
    "from sklearn.linear_model import LogisticRegression\n",
    "\n",
    "logreg = LogisticRegression(random_state=42 )\n",
    "logreg.fit(x_train, y_train)\n",
    "ypred1= logreg.predict(x_val)\n",
    "\n",
    "Results(logreg, ypred1, x_train, y_train,\"Logistic Regression before sampling\")  "
   ]
  },
  {
   "cell_type": "code",
   "execution_count": 38,
   "metadata": {},
   "outputs": [],
   "source": [
    "# train_score=[]\n",
    "# test_score=[]\n",
    "# recall=[]\n",
    "# solver = ['newton-cg','lbfgs','liblinear','sag','saga']\n",
    "# for i in solver:\n",
    "#     model = LogisticRegression(random_state=42,penalty='l2', C = 0.75,solver=i);  # changing values of solver\n",
    "#     model.fit(x_train, y_train) \n",
    "#     y_predict = model.predict(x_val)     \n",
    "#     train_score.append(round(model.score(x_train, y_train),3))\n",
    "#     test_score.append(round(model.score(x_val, y_val),3))\n",
    "# #     recall.append((recall_score(y_val, y_predict))\n",
    "    \n",
    "# print(solver)\n",
    "# print()\n",
    "# print(train_score)\n",
    "# print()\n",
    "# print(test_score)\n",
    "\n",
    "# # print(recall)"
   ]
  },
  {
   "cell_type": "markdown",
   "metadata": {},
   "source": [
    "# SMOTE Technique for upsampling"
   ]
  },
  {
   "cell_type": "code",
   "execution_count": 39,
   "metadata": {},
   "outputs": [
    {
     "name": "stderr",
     "output_type": "stream",
     "text": [
      "/Users/kamakshibansal/opt/anaconda3/lib/python3.7/site-packages/sklearn/utils/deprecation.py:77: DeprecationWarning: Function _ratio_float is deprecated; Use a float for 'ratio' is deprecated from version 0.2. The support will be removed in 0.4. Use a dict, str, or a callable instead.\n",
      "  warnings.warn(msg, category=DeprecationWarning)\n"
     ]
    }
   ],
   "source": [
    "sm1 = SMOTE(random_state=12,ratio = 1.0)\n",
    "x_train_res, y_train_res = sm1.fit_sample(x_train, y_train)"
   ]
  },
  {
   "cell_type": "code",
   "execution_count": 40,
   "metadata": {},
   "outputs": [
    {
     "data": {
      "text/plain": [
       "LogisticRegression(C=1.0, class_weight=None, dual=False, fit_intercept=True,\n",
       "          intercept_scaling=1, max_iter=100, multi_class='ovr', n_jobs=1,\n",
       "          penalty='l2', random_state=42, solver='liblinear', tol=0.0001,\n",
       "          verbose=0, warm_start=False)"
      ]
     },
     "execution_count": 40,
     "metadata": {},
     "output_type": "execute_result"
    }
   ],
   "source": [
    "#After Sampling\n",
    "\n",
    "\n",
    "logregsmote = LogisticRegression(random_state=42, solver=\"liblinear\" )\n",
    "logregsmote.fit(x_train_res, y_train_res)\n",
    "\n",
    "ypred= logregsmote.predict(x_val)\n"
   ]
  },
  {
   "cell_type": "code",
   "execution_count": 73,
   "metadata": {},
   "outputs": [
    {
     "name": "stdout",
     "output_type": "stream",
     "text": [
      "Training accuracy 85.185\n",
      "\n",
      "Testing accuracy 88.889\n",
      "\n",
      "Confusion Matrix Logistic Regression after sampling\n"
     ]
    },
    {
     "data": {
      "image/png": "[encoded data removed]",
      "text/plain": [
       "<Figure size 432x288 with 2 Axes>"
      ]
     },
     "metadata": {},
     "output_type": "display_data"
    },
    {
     "name": "stdout",
     "output_type": "stream",
     "text": [
      "\n",
      "Recall: 80.0\n",
      "\n",
      "Precision: 100.0\n",
      "\n",
      "F1 Score: 88.889\n",
      "\n",
      "Roc Auc Score: 90.0\n"
     ]
    },
    {
     "data": {
      "image/png": "[encoded data removed]",
      "text/plain": [
       "<Figure size 432x288 with 1 Axes>"
      ]
     },
     "metadata": {},
     "output_type": "display_data"
    }
   ],
   "source": [
    "Results(logregsmote, ypred, x_train_res, y_train_res,\"Logistic Regression after sampling\")  "
   ]
  },
  {
   "cell_type": "markdown",
   "metadata": {},
   "source": [
    "# Performance of Logistic Regression on completely unseen data like it will be in Production"
   ]
  },
  {
   "cell_type": "code",
   "execution_count": 59,
   "metadata": {
    "scrolled": false
   },
   "outputs": [
    {
     "name": "stdout",
     "output_type": "stream",
     "text": [
      "\n",
      " \n",
      "Final Testing Score: 0.8823529411764706\n",
      "Recall Score: 0.8235294117647058\n",
      "\n",
      "Confusion matrix of the completely unseen test data\n"
     ]
    },
    {
     "data": {
      "image/png": "[encoded data removed]",
      "text/plain": [
       "<Figure size 432x288 with 2 Axes>"
      ]
     },
     "metadata": {},
     "output_type": "display_data"
    }
   ],
   "source": [
    "# Performance on completely unseen data\n",
    "Xtest= test.drop('Heart_disease', axis=1)\n",
    "Ytest = test[['Heart_disease']]\n",
    "\n",
    "ypredf= logreg.predict(Xtest)\n",
    "\n",
    "\n",
    "print(\"\\n \\nFinal Testing Score:\", logreg.score(Xtest, Ytest))\n",
    "print(\"Recall Score:\",recall_score( Ytest,ypredf ))\n",
    "print (\"\\nConfusion matrix of the completely unseen test data\")\n",
    "cm = confusion_matrix( Ytest, ypredf)\n",
    "sns.heatmap(cm, annot=True,  fmt='.2f', xticklabels = [0,1] , yticklabels = [0,1] )\n",
    "plt.ylabel('Observed')\n",
    "plt.xlabel('Predicted')\n",
    "plt.show();\n"
   ]
  },
  {
   "attachments": {},
   "cell_type": "markdown",
   "metadata": {},
   "source": [
    "- These are the results from Logistic regression before upsampling. The Training score and testing score are quite similar, they are 85.53% and 85.13% respectively. Recall is although 73.3% which increased to 80% approx after sampling. Infact, the model improved overall after upsampling as the testing score increased to 88.9 % although training score was still similar to the one before sampling.  This model is not overfitting.\n",
    "- Finally, when the unseen data was tested on this model, 88.23% was achieved as testing score and recall increased to 82.35%. \n"
   ]
  },
  {
   "cell_type": "markdown",
   "metadata": {},
   "source": [
    "# Stratified cross-validation\n",
    "\n",
    "\n",
    "k-fold cross validation with stratification"
   ]
  },
  {
   "cell_type": "code",
   "execution_count": 42,
   "metadata": {},
   "outputs": [
    {
     "data": {
      "text/plain": [
       "array([0.89285714, 0.85714286, 0.77777778, 0.96296296, 0.85185185,\n",
       "       0.85185185, 0.7037037 , 0.88461538, 0.73076923, 0.84615385])"
      ]
     },
     "execution_count": 42,
     "metadata": {},
     "output_type": "execute_result"
    }
   ],
   "source": [
    "k = 10\n",
    "from sklearn.model_selection  import StratifiedKFold, cross_val_score\n",
    "stratified_kfold = StratifiedKFold(n_splits = k, random_state = 55)\n",
    "results = cross_val_score(logreg, X, Y, cv = stratified_kfold)\n",
    "results"
   ]
  },
  {
   "cell_type": "code",
   "execution_count": 43,
   "metadata": {},
   "outputs": [
    {
     "data": {
      "text/plain": [
       "0.8359686609686608"
      ]
     },
     "execution_count": 43,
     "metadata": {},
     "output_type": "execute_result"
    }
   ],
   "source": [
    "np.mean(abs(results))"
   ]
  },
  {
   "cell_type": "code",
   "execution_count": 44,
   "metadata": {},
   "outputs": [
    {
     "data": {
      "text/plain": [
       "0.07398250458008379"
      ]
     },
     "execution_count": 44,
     "metadata": {},
     "output_type": "execute_result"
    }
   ],
   "source": [
    "results.std()"
   ]
  },
  {
   "cell_type": "code",
   "execution_count": 45,
   "metadata": {},
   "outputs": [
    {
     "data": {
      "text/plain": [
       "0.9339686609686608"
      ]
     },
     "execution_count": 45,
     "metadata": {},
     "output_type": "execute_result"
    }
   ],
   "source": [
    "np.mean(abs(results))+ (1.96*.05)"
   ]
  },
  {
   "cell_type": "code",
   "execution_count": 46,
   "metadata": {},
   "outputs": [
    {
     "data": {
      "text/plain": [
       "0.7379686609686609"
      ]
     },
     "execution_count": 46,
     "metadata": {},
     "output_type": "execute_result"
    }
   ],
   "source": [
    "np.mean(abs(results))- (1.96*.05)"
   ]
  },
  {
   "attachments": {},
   "cell_type": "markdown",
   "metadata": {},
   "source": [
    "- Stratified Cross Validation is implemented to check the uncertainty associated with the results: Stratified version of K-flod cross validation keeping K= 10. The lowest accuracy achieved is 70.37% and highest accuracy is 96.29%.\n",
    "\n",
    "- Hence, the results obtained on the completely unseen production data will be having an accuracy in the range of 73.79% to 93.39% with 95% confidence interval.\n"
   ]
  },
  {
   "cell_type": "markdown",
   "metadata": {},
   "source": [
    "# XG Boost"
   ]
  },
  {
   "cell_type": "code",
   "execution_count": 47,
   "metadata": {
    "scrolled": true
   },
   "outputs": [
    {
     "data": {
      "text/plain": [
       "XGBClassifier(base_score=0.5, booster='gbtree', colsample_bylevel=1,\n",
       "       colsample_bynode=1, colsample_bytree=1, gamma=0, learning_rate=0.1,\n",
       "       max_delta_step=0, max_depth=3, min_child_weight=1, missing=None,\n",
       "       n_estimators=100, n_jobs=1, nthread=None,\n",
       "       objective='binary:logistic', random_state=0, reg_alpha=0,\n",
       "       reg_lambda=1, scale_pos_weight=1, seed=None, silent=None,\n",
       "       subsample=1, verbosity=1)"
      ]
     },
     "execution_count": 47,
     "metadata": {},
     "output_type": "execute_result"
    },
    {
     "name": "stdout",
     "output_type": "stream",
     "text": [
      "Training Score: 0.9917355371900827\n",
      "Testing Score: 0.8518518518518519\n",
      "Recall Score: 1.0\n"
     ]
    },
    {
     "name": "stderr",
     "output_type": "stream",
     "text": [
      "/Users/kamakshibansal/opt/anaconda3/lib/python3.7/site-packages/sklearn/preprocessing/label.py:151: DeprecationWarning: The truth value of an empty array is ambiguous. Returning False, but in future this will result in an error. Use `array.size > 0` to check that an array is not empty.\n",
      "  if diff:\n",
      "/Users/kamakshibansal/opt/anaconda3/lib/python3.7/site-packages/sklearn/preprocessing/label.py:151: DeprecationWarning: The truth value of an empty array is ambiguous. Returning False, but in future this will result in an error. Use `array.size > 0` to check that an array is not empty.\n",
      "  if diff:\n",
      "/Users/kamakshibansal/opt/anaconda3/lib/python3.7/site-packages/sklearn/preprocessing/label.py:151: DeprecationWarning: The truth value of an empty array is ambiguous. Returning False, but in future this will result in an error. Use `array.size > 0` to check that an array is not empty.\n",
      "  if diff:\n"
     ]
    }
   ],
   "source": [
    "#Without sampling\n",
    "\n",
    "\n",
    "\n",
    "# import xgboost as xgb\n",
    "\n",
    "model = xgb.XGBClassifier()\n",
    "model.fit(x_train, y_train)\n",
    "ypred1= model.predict(x_val)\n",
    "\n",
    "print(\"Training Score:\",model.score(x_train, y_train))\n",
    "\n",
    "print(\"Testing Score:\",model.score(x_val, y_val))\n",
    "print(\"Recall Score:\",recall_score(ypred1, y_val))\n",
    "\n"
   ]
  },
  {
   "cell_type": "markdown",
   "metadata": {},
   "source": [
    "# Random Forest"
   ]
  },
  {
   "cell_type": "code",
   "execution_count": 48,
   "metadata": {},
   "outputs": [
    {
     "data": {
      "text/plain": [
       "RandomForestClassifier(bootstrap=True, class_weight=None, criterion='gini',\n",
       "            max_depth=None, max_features='auto', max_leaf_nodes=None,\n",
       "            min_impurity_decrease=0.0, min_impurity_split=None,\n",
       "            min_samples_leaf=1, min_samples_split=2,\n",
       "            min_weight_fraction_leaf=0.0, n_estimators=25, n_jobs=1,\n",
       "            oob_score=False, random_state=12, verbose=0, warm_start=False)"
      ]
     },
     "execution_count": 48,
     "metadata": {},
     "output_type": "execute_result"
    },
    {
     "name": "stdout",
     "output_type": "stream",
     "text": [
      "Training Score: 1.0\n",
      "Testing Score: 0.8148148148148148\n"
     ]
    }
   ],
   "source": [
    "clf_rf = RandomForestClassifier(n_estimators=25, random_state=12)\n",
    "clf_rf.fit(x_train, y_train)\n",
    "print(\"Training Score:\",clf_rf.score(x_train, y_train))\n",
    "print(\"Testing Score:\", clf_rf.score(x_val, y_val))"
   ]
  },
  {
   "attachments": {},
   "cell_type": "markdown",
   "metadata": {},
   "source": [
    "# Approach description\n",
    "\n",
    "\n",
    "- After doing data pre-processing, the dataset is divided into two parts: 90% as training data and 10% test data. As the dataset is very less in size, that’s why taking higer percentage of the dataset for training.\n",
    "- The 90% of the training data was further divided into training and validation set for training the model so that the 10% test set can be treated as the unseen new data as it would have been in production.\n",
    "- Oversampling using SMOTE technique was done after splitting and not before splitting because of data leakage.\n",
    "  The reason is: If the oversampling using SMOTE algorithm was done before splitting into training and validation datasets, the information would “bleed” from the validation set   into the training of the model.\n",
    "    Let's understand this with a help of an example, were we are just duplicating rows. If we upsample the dataset before splitting the data, the same data point might end up in     both the training and validation dataset. As a result, the accuracy will be very high.\n",
    "    Though, using SMOTE algorithm, we are not creating duplicate observations. However, since the SMOTE algorithm uses the nearest neighbors of observations to create synthetic      data, hence it will still bleed some information. As the information about centroid of dataset will be there in these newly created synthetic data points which will be present    in both the training and validation set if oversampling is done before splitting. Hence, the oversampling is done after splitting the dataset into training and validation set.\n",
    "- Models implemented are: Logistic Regression, XGBoost, Random Forest. But, finally Logistic Regression is used as the other two complex models are leading to overfitting. Simpler models perform generally better than complex models, when the training data is small, because they have less chances to overfit.\n",
    "- Confusion matrix is used for depicting the misclassifications before and after sampling.\n",
    "- Choice of evaluation metric: Though, many different metrics are used in the code: Accuracy, Precision, Recall, F1 score, AUC score. But, Recall is our metric for this case study as high cost is associated with false negatives. If someone is suffering from heart disease, we want this to be predicted as 1 (presence) and not 0 (absence). If 0 is predicted as 1, it’s still fine but if 1 is predicted 0, the person might die.\n"
   ]
  },
  {
   "cell_type": "code",
   "execution_count": null,
   "metadata": {},
   "outputs": [],
   "source": []
  }
 ],
 "metadata": {
  "kernelspec": {
   "display_name": "Python 3",
   "language": "python",
   "name": "python3"
  },
  "language_info": {
   "codemirror_mode": {
    "name": "ipython",
    "version": 3
   },
   "file_extension": ".py",
   "mimetype": "text/x-python",
   "name": "python",
   "nbconvert_exporter": "python",
   "pygments_lexer": "ipython3",
   "version": "3.7.4"
  }
 },
 "nbformat": 4,
 "nbformat_minor": 2
}
